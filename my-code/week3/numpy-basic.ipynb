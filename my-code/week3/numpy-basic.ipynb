{
 "cells": [
  {
   "cell_type": "code",
   "execution_count": 27,
   "metadata": {},
   "outputs": [],
   "source": [
    "import numpy as np"
   ]
  },
  {
   "cell_type": "code",
   "execution_count": 28,
   "metadata": {},
   "outputs": [
    {
     "name": "stdout",
     "output_type": "stream",
     "text": [
      "[1, 2, 3]\n",
      "<class 'list'>\n",
      "[1 2 3]\n",
      "<class 'numpy.ndarray'>\n"
     ]
    }
   ],
   "source": [
    "a =[1,2,3]\n",
    "b=np.array(a)\n",
    "print(a)\n",
    "print(type(a))\n",
    "print(b)\n",
    "print(type(b))"
   ]
  },
  {
   "cell_type": "code",
   "execution_count": 29,
   "metadata": {},
   "outputs": [
    {
     "name": "stdout",
     "output_type": "stream",
     "text": [
      "[1, 2, 3, 1, 2, 3, 1, 2, 3]\n",
      "[3 6 9]\n"
     ]
    }
   ],
   "source": [
    "print(a*3)\n",
    "print(b*3)"
   ]
  },
  {
   "cell_type": "code",
   "execution_count": 30,
   "metadata": {},
   "outputs": [
    {
     "name": "stdout",
     "output_type": "stream",
     "text": [
      "[1 2 3 4]\n",
      "<class 'numpy.ndarray'>\n",
      "(4,)\n",
      "[[1, 2, 3], [4, 5, 6]]\n",
      "[[1 2 3]\n",
      " [4 5 6]]\n",
      "<class 'numpy.ndarray'>\n",
      "(2, 3)\n"
     ]
    }
   ],
   "source": [
    "# Rank = 1인 array\n",
    "a = np.array((1,2,3,4))\n",
    "print(a)\n",
    "print(type(a))\n",
    "print(a.shape)\n",
    "\n",
    "temp = [[1,2,3],[4,5,6]]\n",
    "print(temp)\n",
    "# Rank = 2인 array\n",
    "b = np.array([[1,2,3],[4,5,6]])\n",
    "print(b)\n",
    "print(type(b))\n",
    "print(b.shape)"
   ]
  },
  {
   "cell_type": "markdown",
   "metadata": {},
   "source": [
    "- Rank 무엇?"
   ]
  },
  {
   "cell_type": "code",
   "execution_count": 31,
   "metadata": {},
   "outputs": [
    {
     "name": "stdout",
     "output_type": "stream",
     "text": [
      "1 2\n",
      "[5 2 3 4]\n",
      "[1 2 3]\n",
      "3\n",
      "3\n",
      "[[1 2 7]\n",
      " [4 5 6]]\n"
     ]
    }
   ],
   "source": [
    "a=np.array([1,2,3,4])\n",
    "print(a[0],a[1])\n",
    "a[0]=5\n",
    "print(a)\n",
    "\n",
    "b=np.array([[1,2,3],[4,5,6]])\n",
    "print(b[0])\n",
    "print(b[0][2])\n",
    "print(b[0,2])\n",
    "b[0,2]=7\n",
    "print(b)"
   ]
  },
  {
   "cell_type": "code",
   "execution_count": 32,
   "metadata": {},
   "outputs": [
    {
     "name": "stdout",
     "output_type": "stream",
     "text": [
      "[1. 2. 3. 4.]\n",
      "<class 'numpy.float64'>\n",
      "float64\n",
      "[1 2 3 4]\n",
      "<class 'numpy.int32'>\n",
      "int32\n"
     ]
    }
   ],
   "source": [
    "a = np.array([1,2,3,4], float)\n",
    "print(a)\n",
    "print(type(a[0]))\n",
    "print(a.dtype)\n",
    "\n",
    "b= np.array([1,2,3,4],int)\n",
    "print(b)\n",
    "print(type(b[0]))\n",
    "print(b.dtype)"
   ]
  },
  {
   "cell_type": "code",
   "execution_count": 33,
   "metadata": {},
   "outputs": [
    {
     "name": "stdout",
     "output_type": "stream",
     "text": [
      "1\n",
      "[1 2 3]\n",
      "[3 6]\n"
     ]
    }
   ],
   "source": [
    "a=np.array([[1,2,3],[4,5,6]])\n",
    "print(a[0,0])\n",
    "print(a[0,:])\n",
    "print(a[:,2])"
   ]
  },
  {
   "cell_type": "code",
   "execution_count": 34,
   "metadata": {},
   "outputs": [
    {
     "name": "stdout",
     "output_type": "stream",
     "text": [
      "[1 2 3]\n",
      "(2, 3)\n",
      "First row: [1 2 3]\n",
      "Last row: [3 4 5]\n",
      "Specific row and col: 3\n",
      "Whole col: [3 5]\n"
     ]
    }
   ],
   "source": [
    "mylist = [[1,2,3],[3,4,5]]\n",
    "myarray = np.array(mylist)\n",
    "print(myarray[0])\n",
    "print(myarray.shape)\n",
    "print(\"First row: %s\" % myarray[0])\n",
    "print(\"Last row: %s\" % myarray[-1])\n",
    "print(\"Specific row and col: %s\" % myarray[0,2])\n",
    "print(\"Whole col: %s\"% myarray[:,2])"
   ]
  },
  {
   "cell_type": "code",
   "execution_count": 35,
   "metadata": {},
   "outputs": [
    {
     "data": {
      "text/plain": [
       "array([6, 8])"
      ]
     },
     "execution_count": 35,
     "metadata": {},
     "output_type": "execute_result"
    }
   ],
   "source": [
    "a=np.array([1,2])\n",
    "b=np.array([5,6])\n",
    "\n",
    "a+b"
   ]
  },
  {
   "cell_type": "code",
   "execution_count": 36,
   "metadata": {},
   "outputs": [
    {
     "name": "stdout",
     "output_type": "stream",
     "text": [
      "[3 7 9]\n",
      "[-1 -3 -3]\n",
      "[0.5 0.4 0.5]\n",
      "[2.  2.5 2. ]\n",
      "[2 2 2]\n",
      "[0 1 0]\n",
      "[  1  32 729]\n"
     ]
    }
   ],
   "source": [
    "a= np.array([1,2,3])\n",
    "b= np.array([2,5,6])\n",
    "\n",
    "print(a+b)\n",
    "print(a-b)\n",
    "print(a/b)\n",
    "print(b/a)\n",
    "print(b//a)\n",
    "print(b%a)\n",
    "print(a**b)"
   ]
  },
  {
   "cell_type": "code",
   "execution_count": 37,
   "metadata": {},
   "outputs": [
    {
     "name": "stdout",
     "output_type": "stream",
     "text": [
      "[[ 3  6  9]\n",
      " [10 13 16]]\n",
      "[[-1 -2 -3]\n",
      " [-2 -3 -4]]\n",
      "[[0.5        0.5        0.5       ]\n",
      " [0.66666667 0.625      0.6       ]]\n",
      "[[2.         2.         2.        ]\n",
      " [1.5        1.6        1.66666667]]\n",
      "[[2 2 2]\n",
      " [1 1 1]]\n",
      "[[0 0 0]\n",
      " [2 3 4]]\n",
      "[[       1       16      729]\n",
      " [    4096   390625 60466176]]\n"
     ]
    }
   ],
   "source": [
    "a = np.array([[1,2,3],[4,5,6]])\n",
    "b = np.array([[2,4,6],[6,8,10]])\n",
    "\n",
    "print(a+b)\n",
    "print(a-b)\n",
    "print(a/b)\n",
    "print(b/a)\n",
    "print(b//a)\n",
    "print(b%a)\n",
    "print(a**b)"
   ]
  },
  {
   "cell_type": "code",
   "execution_count": 38,
   "metadata": {},
   "outputs": [
    {
     "ename": "ValueError",
     "evalue": "operands could not be broadcast together with shapes (3,) (2,) ",
     "output_type": "error",
     "traceback": [
      "\u001b[1;31m---------------------------------------------------------------------------\u001b[0m",
      "\u001b[1;31mValueError\u001b[0m                                Traceback (most recent call last)",
      "Cell \u001b[1;32mIn[38], line 5\u001b[0m\n\u001b[0;32m      2\u001b[0m a\u001b[38;5;241m=\u001b[39mnp\u001b[38;5;241m.\u001b[39marray([\u001b[38;5;241m1\u001b[39m,\u001b[38;5;241m2\u001b[39m,\u001b[38;5;241m3\u001b[39m])\n\u001b[0;32m      3\u001b[0m b\u001b[38;5;241m=\u001b[39mnp\u001b[38;5;241m.\u001b[39marray([\u001b[38;5;241m3\u001b[39m,\u001b[38;5;241m4\u001b[39m])\n\u001b[1;32m----> 5\u001b[0m \u001b[38;5;28mprint\u001b[39m(\u001b[43ma\u001b[49m\u001b[38;5;241;43m+\u001b[39;49m\u001b[43mb\u001b[49m)\n",
      "\u001b[1;31mValueError\u001b[0m: operands could not be broadcast together with shapes (3,) (2,) "
     ]
    }
   ],
   "source": [
    "# array들의 차원 사이즈가 다르면, 에러 발생!\n",
    "a=np.array([1,2,3])\n",
    "b=np.array([3,4])\n",
    "\n",
    "print(a+b)"
   ]
  },
  {
   "cell_type": "code",
   "execution_count": null,
   "metadata": {},
   "outputs": [
    {
     "name": "stdout",
     "output_type": "stream",
     "text": [
      "[[1 2]\n",
      " [3 4]\n",
      " [5 6]]\n",
      "[0.1 0.2]\n",
      "[[1.1 2.2]\n",
      " [3.1 4.2]\n",
      " [5.1 6.2]]\n"
     ]
    }
   ],
   "source": [
    "# broadcasting : 배열과 일차원 배열 더하는 경우, \n",
    "# 알아서 차원을 맞춰서 더하게 됨.\n",
    "a=np.array([[1,2],[3,4],[5,6]])\n",
    "b=np.array([0.1,0.2])\n",
    "print(a)\n",
    "print(b)\n",
    "print(a+b)"
   ]
  },
  {
   "cell_type": "code",
   "execution_count": null,
   "metadata": {},
   "outputs": [
    {
     "name": "stdout",
     "output_type": "stream",
     "text": [
      "[[0. 0.]\n",
      " [0. 0.]]\n",
      "[2 3]\n",
      "[[2. 3.]\n",
      " [2. 3.]]\n",
      "[[2. 3.]\n",
      " [2. 3.]]\n",
      "[[2. 2.]\n",
      " [3. 3.]]\n"
     ]
    }
   ],
   "source": [
    "a=np.zeros((2,2))\n",
    "print(a)\n",
    "b=np.array([2,3])\n",
    "print(b)\n",
    "print(a+b)\n",
    "\n",
    "# Numpy의 newaxis라는 함수를 이용하여, b를 어떤 방향으로 더할지 정의\n",
    "print(a+b[np.newaxis,:])\n",
    "print(a+b[:,np.newaxis])"
   ]
  },
  {
   "cell_type": "code",
   "execution_count": 46,
   "metadata": {},
   "outputs": [
    {
     "name": "stdout",
     "output_type": "stream",
     "text": [
      "[-1  2  3 -4]\n",
      "[1 2 3 4]\n",
      "[1 4 9]\n",
      "[1. 2. 3.]\n",
      "[2.71828183 1.         2.        ]\n",
      "[1.         0.         0.69314718]\n",
      "[1. 1. 1.]\n",
      "[2. 2. 2.]\n",
      "[1. 2. 2.]\n"
     ]
    }
   ],
   "source": [
    "a=np.array([-1,2,3,-4])\n",
    "print(a)\n",
    "a=np.abs(a)\n",
    "print(a)\n",
    "\n",
    "b=np.array([1,4,9])\n",
    "print(b)\n",
    "b=np.sqrt(b)\n",
    "print(b)\n",
    "\n",
    "import math\n",
    "c=np.array([math.e,1,2])\n",
    "print(c)\n",
    "c=np.log(c)\n",
    "print(c)\n",
    "\n",
    "d= np.array([1.1,1.5,1.9])\n",
    "print(np.floor(d))\n",
    "print(np.ceil(d))\n",
    "print(np.rint(d))"
   ]
  },
  {
   "cell_type": "code",
   "execution_count": 49,
   "metadata": {},
   "outputs": [
    {
     "name": "stdout",
     "output_type": "stream",
     "text": [
      "1\n",
      "2\n",
      "3\n",
      "[1 2]\n",
      "[3 4]\n",
      "[5 6]\n",
      "2\n",
      "12\n",
      "30\n"
     ]
    }
   ],
   "source": [
    "a = np.array([1,2,3])\n",
    "for x in a:\n",
    "    print(x)\n",
    "    \n",
    "b=np.array([[1,2],[3,4],[5,6]])   \n",
    "for x in b:\n",
    "    print(x) \n",
    "for (x,y) in b:\n",
    "    print(x*y)"
   ]
  },
  {
   "cell_type": "code",
   "execution_count": 63,
   "metadata": {},
   "outputs": [
    {
     "name": "stdout",
     "output_type": "stream",
     "text": [
      "sum\n",
      "15\n",
      "15\n",
      "production\n",
      "120\n",
      "120\n",
      "min value and its index\n",
      "1\n",
      "0\n",
      "max value and its index\n",
      "5\n",
      "4\n",
      "mean\n",
      "3.0\n",
      "standard deviation\n",
      "1.4142135623730951\n"
     ]
    }
   ],
   "source": [
    "a=np.array([1,2,3,4,5])\n",
    "#합\n",
    "print('sum')\n",
    "print(a.sum())\n",
    "print(np.sum(a))\n",
    "#곱\n",
    "print('production')\n",
    "print(a.prod())\n",
    "print(np.prod(a))\n",
    "#최소값과 그의 index\n",
    "print('min value and its index')\n",
    "print(a.min())\n",
    "print(a.argmin())\n",
    "#최대값과 그의 index\n",
    "print('max value and its index')\n",
    "print(a.max())\n",
    "print(a.argmax())\n",
    "#평균과 표준편차\n",
    "print('mean')\n",
    "print(a.mean())\n",
    "print('standard deviation')\n",
    "print(a.std())"
   ]
  },
  {
   "cell_type": "code",
   "execution_count": 64,
   "metadata": {},
   "outputs": [
    {
     "name": "stdout",
     "output_type": "stream",
     "text": [
      "[[1 2]\n",
      " [3 4]\n",
      " [5 6]]\n"
     ]
    }
   ],
   "source": [
    "a=np.array([[1,2],[3,4],[5,6]])\n",
    "print(a)"
   ]
  },
  {
   "cell_type": "code",
   "execution_count": 65,
   "metadata": {},
   "outputs": [
    {
     "name": "stdout",
     "output_type": "stream",
     "text": [
      "[[1 3 5]\n",
      " [2 4 6]]\n"
     ]
    }
   ],
   "source": [
    "a_prime =a.T\n",
    "print(a_prime)"
   ]
  },
  {
   "cell_type": "code",
   "execution_count": 69,
   "metadata": {},
   "outputs": [
    {
     "name": "stdout",
     "output_type": "stream",
     "text": [
      "[1 2 3 4]\n",
      "[1 2 3 4]\n",
      "[[1]\n",
      " [2]\n",
      " [3]\n",
      " [4]]\n",
      "(4,)  ===>  (4, 1)\n"
     ]
    }
   ],
   "source": [
    "#1차원 vector, transpose 하면..?\n",
    "b= np.array([1,2,3,4])\n",
    "print(b)\n",
    "#transpose 적용 x\n",
    "print(b.T)\n",
    "\n",
    "#그렇다면 행 벡터를 열 벡터로 변환하고 싶다면(꼼수 적용)\n",
    "b_prime = b.reshape(-1,1)\n",
    "print(b_prime)\n",
    "print(b.shape, ' ===> ', b_prime.shape)"
   ]
  },
  {
   "cell_type": "markdown",
   "metadata": {},
   "source": [
    "0325 실습 완료."
   ]
  }
 ],
 "metadata": {
  "kernelspec": {
   "display_name": "Python 3",
   "language": "python",
   "name": "python3"
  },
  "language_info": {
   "codemirror_mode": {
    "name": "ipython",
    "version": 3
   },
   "file_extension": ".py",
   "mimetype": "text/x-python",
   "name": "python",
   "nbconvert_exporter": "python",
   "pygments_lexer": "ipython3",
   "version": "3.10.13"
  }
 },
 "nbformat": 4,
 "nbformat_minor": 2
}
